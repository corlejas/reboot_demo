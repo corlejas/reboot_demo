{
 "cells": [
  {
   "attachments": {},
   "cell_type": "markdown",
   "metadata": {},
   "source": [
    "# What might we do differently?\n",
    "\n",
    "## Purpose:\n",
    "To briefly discuss the availability of subjective and objective data relationship analytics. \n",
    "\n",
    "## Background:\n",
    "*LLM's* and *vector* search are great for the subjective assessment of data relationshsips - they identify collections that are symantically **\"alike\"**.  This enables LLM's to be *creative* which is also why they get things wrong.\n",
    "Graph databases, specifically *knowledge graphs*, are wholly objective in their inferences through the data relationships.  Wikidata is a graph database that sits behind a large proprtion of wikipedia. \n",
    "\n",
    "## Method:\n",
    "Use *Langchain* to orchestrate GPT-4 to write some code to construct an API call (and query) into Wikidata, to answer a specific questions.  Langchain will the manage the execution of the code, to return the response back to GPT-4 to format the layout.   \n",
    "\n",
    "---"
   ]
  },
  {
   "attachments": {},
   "cell_type": "markdown",
   "metadata": {},
   "source": [
    "### What is a graph database?\n",
    "\n",
    "<figure>\n",
    "     <a href=\"https://link.springer.com/article/10.1007/s10639-023-11664-1/figures/3\">\n",
    "          <img src=\"https://media.springernature.com/full/springer-static/image/art%3A10.1007%2Fs10639-023-11664-1/MediaObjects/10639_2023_11664_Fig3_HTML.png\"\n",
    "               alt=\"image of a simple graph\"\n",
    "               height=600px>\n",
    "     </a>\n",
    "     <figcaption>A simple graph, used by the Metropoltan Museum of Art, to learn of the link between Madame X and the dress worn by Rita Hayworth in Gilda\n",
    "</figure>\n"
   ]
  },
  {
   "attachments": {},
   "cell_type": "markdown",
   "metadata": {},
   "source": [
    "\n",
    "\n",
    "<figure>\n",
    "     <a href=\"https://www.wikidata.org/wiki/Wikidata:Tools/Visualize_data#/media/File:Wikidata_Tree_Builder.png\">\n",
    "          <img src=\"https://upload.wikimedia.org/wikipedia/commons/1/1b/Wikidata_Tree_Builder.png\"\n",
    "               alt=\"image of a detailed graph\"\n",
    "               height=600px>\n",
    "     </a>\n",
    "     <figcaption>A dynamically generated graph, from  data in wikidata, showing the subclasses to two levels (and interconnects) of occupations using *artist* as the root\n",
    "</figure>\n",
    "\n",
    "\n",
    "Demonstrate the use of wikidata to get to some data, but do so using langchain to have GPT-4 construct Python and query and pass to PythonREPL to execute and then format neatly\n"
   ]
  },
  {
   "attachments": {},
   "cell_type": "markdown",
   "metadata": {},
   "source": [
    "\n",
    "### Example\n",
    "\n",
    "Demonstrate the use of wikidata to source data, but do so using langchain to have GPT-4 construct Python and query and pass to PythonREPL to execute and then format neatly\n"
   ]
  },
  {
   "cell_type": "code",
   "execution_count": 3,
   "metadata": {},
   "outputs": [
    {
     "name": "stdout",
     "output_type": "stream",
     "text": [
      "\n",
      "\n",
      "\u001b[1m> Entering new  chain...\u001b[0m\n",
      "\u001b[32;1m\u001b[1;3mTo fetch data from Wikidata, I can use the requests library to send a GET request to the Wikidata API. The API endpoint for Wikidata is \"https://www.wikidata.org/w/api.php\". I need to pass the action, format, and the entity ID as parameters. The entity ID for William Shakespeare is \"Q692\". I will then parse the response to extract the birth and death dates and locations.\n",
      "Action: Python REPL\n",
      "Action Input: \n",
      "```python\n",
      "import requests\n",
      "\n",
      "def get_entity_data(entity_id):\n",
      "    url = \"https://www.wikidata.org/w/api.php\"\n",
      "    params = {\n",
      "        \"action\": \"wbgetentities\",\n",
      "        \"ids\": entity_id,\n",
      "        \"format\": \"json\"\n",
      "    }\n",
      "    response = requests.get(url, params=params)\n",
      "    return response.json()\n",
      "\n",
      "def get_birth_death_info(entity_data):\n",
      "    claims = entity_data['entities']['Q692']['claims']\n",
      "    birth_date = claims['P569'][0]['mainsnak']['datavalue']['value']['time']\n",
      "    death_date = claims['P570'][0]['mainsnak']['datavalue']['value']['time']\n",
      "    birth_place = claims['P19'][0]['mainsnak']['datavalue']['value']['id']\n",
      "    death_place = claims['P20'][0]['mainsnak']['datavalue']['value']['id']\n",
      "    return birth_date, death_date, birth_place, death_place\n",
      "\n",
      "entity_data = get_entity_data(\"Q692\")\n",
      "birth_date, death_date, birth_place, death_place = get_birth_death_info(entity_data)\n",
      "print(f\"Birth Date: {birth_date}, Death Date: {death_date}, Birth Place: {birth_place}, Death Place: {death_place}\")\n",
      "```\u001b[0m\n",
      "Observation: \u001b[36;1m\u001b[1;3mBirth Date: +1564-04-23T00:00:00Z, Death Date: +1616-04-23T00:00:00Z, Birth Place: Q189288, Death Place: Q189288\n",
      "\u001b[0m\n",
      "Thought:\u001b[32;1m\u001b[1;3mI have fetched the birth and death dates and locations of William Shakespeare from Wikidata. However, the birth and death places are returned as entity IDs. I need to fetch the names of these places using their entity IDs. I will use the same `get_entity_data` function to fetch the data for these places and extract their names.\n",
      "Action: Python REPL\n",
      "Action Input: \n",
      "```python\n",
      "def get_entity_name(entity_data):\n",
      "    return entity_data['entities'][entity_id]['labels']['en']['value']\n",
      "\n",
      "birth_place_data = get_entity_data(birth_place)\n",
      "death_place_data = get_entity_data(death_place)\n",
      "birth_place_name = get_entity_name(birth_place_data)\n",
      "death_place_name = get_entity_name(death_place_data)\n",
      "\n",
      "print(f\"Birth Date: {birth_date}, Death Date: {death_date}, Birth Place: {birth_place_name}, Death Place: {death_place_name}\")\n",
      "```\u001b[0m\n",
      "Observation: \u001b[36;1m\u001b[1;3mNameError(\"name 'entity_id' is not defined\")\u001b[0m\n",
      "Thought:\u001b[32;1m\u001b[1;3mI made a mistake in the `get_entity_name` function. I used the variable `entity_id` which is not defined in the function. I should use the entity ID from the entity data passed to the function. I will correct this and try again.\n",
      "Action: Python REPL\n",
      "Action Input: \n",
      "```python\n",
      "def get_entity_name(entity_data, entity_id):\n",
      "    return entity_data['entities'][entity_id]['labels']['en']['value']\n",
      "\n",
      "birth_place_name = get_entity_name(birth_place_data, birth_place)\n",
      "death_place_name = get_entity_name(death_place_data, death_place)\n",
      "\n",
      "print(f\"Birth Date: {birth_date}, Death Date: {death_date}, Birth Place: {birth_place_name}, Death Place: {death_place_name}\")\n",
      "```\u001b[0m\n",
      "Observation: \u001b[36;1m\u001b[1;3mBirth Date: +1564-04-23T00:00:00Z, Death Date: +1616-04-23T00:00:00Z, Birth Place: Stratford-upon-Avon, Death Place: Stratford-upon-Avon\n",
      "\u001b[0m\n",
      "Thought:\u001b[32;1m\u001b[1;3mI now know the final answer\n",
      "Final Answer: William Shakespeare was born on April 23, 1564 and died on April 23, 1616. Both his birth and death took place in Stratford-upon-Avon.\u001b[0m\n",
      "\n",
      "\u001b[1m> Finished chain.\u001b[0m\n"
     ]
    },
    {
     "data": {
      "text/plain": [
       "'William Shakespeare was born on April 23, 1564 and died on April 23, 1616. Both his birth and death took place in Stratford-upon-Avon.'"
      ]
     },
     "execution_count": 3,
     "metadata": {},
     "output_type": "execute_result"
    }
   ],
   "source": [
    "import requests\n",
    "import os\n",
    "import openai\n",
    "openai.api_key = os.getenv(\"OPENAI_API_KEY\")\n",
    "\n",
    "from langchain.agents.agent_toolkits import create_python_agent\n",
    "from langchain.tools.python.tool import PythonREPLTool\n",
    "\n",
    "from langchain.llms.openai import OpenAIChat\n",
    "agent_executor = create_python_agent(\n",
    "    llm=OpenAIChat(temperature=0, model=\"gpt-4-0613\"), \n",
    "    tool=PythonREPLTool(),\n",
    "    verbose=True\n",
    ")\n",
    "agent_executor.run(\"Using wikidata, fetch and printout the dates and locations of the birth and death of William Shakespeare.  The requests library is already installed.\")"
   ]
  }
 ],
 "metadata": {
  "kernelspec": {
   "display_name": ".env",
   "language": "python",
   "name": "python3"
  },
  "language_info": {
   "codemirror_mode": {
    "name": "ipython",
    "version": 3
   },
   "file_extension": ".py",
   "mimetype": "text/x-python",
   "name": "python",
   "nbconvert_exporter": "python",
   "pygments_lexer": "ipython3",
   "version": "3.10.6"
  },
  "orig_nbformat": 4
 },
 "nbformat": 4,
 "nbformat_minor": 2
}
