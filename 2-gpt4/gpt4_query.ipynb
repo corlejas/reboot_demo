{
 "cells": [
  {
   "attachments": {},
   "cell_type": "markdown",
   "metadata": {},
   "source": [
    "# What's the impact of V-volume\n",
    "\n",
    "## Purpose:\n",
    "To demonstrate quality (or not) of the output of the OpenAI LLM's, given the huge amounts of data the have been trained on (and further fined-tuned)\n",
    "\n",
    "## Method:\n",
    "\n",
    "- Ask GPT 3.5 turbo to recite and explain the \"Once more unto the breach\" from Henry V\n",
    "- Ask GPT 4 to create a new speech, using that as inspiration but for a modern theme\n",
    "- Have GPT 4 explain its work\n",
    "\n",
    "---\n"
   ]
  },
  {
   "attachments": {},
   "cell_type": "markdown",
   "metadata": {},
   "source": [
    "### Initialise environment\n"
   ]
  },
  {
   "cell_type": "code",
   "execution_count": 13,
   "metadata": {},
   "outputs": [],
   "source": [
    "import os\n",
    "import openai\n",
    "import textwrap\n",
    "openai.api_key = os.getenv(\"OPENAI_API_KEY\")"
   ]
  },
  {
   "attachments": {},
   "cell_type": "markdown",
   "metadata": {},
   "source": [
    "### GPT 3.5 Turbo: recite and explain \"Once more...\""
   ]
  },
  {
   "cell_type": "code",
   "execution_count": 28,
   "metadata": {},
   "outputs": [
    {
     "name": "stdout",
     "output_type": "stream",
     "text": [
      "\"Once more unto the breach, dear friends, once more;\n",
      "Or close the wall up with our English dead.\n",
      "In peace there's nothing so becomes a man\n",
      "As modest stillness and humility:\n",
      "But when the blast of war blows in our ears,\n",
      "Then imitate the action of the tiger;\n",
      "Stiffen the sinews, summon up the blood,\n",
      "Disguise fair nature with hard-favour'd rage\"\n",
      "\n",
      "This speech is given by King Henry V to his troops before the Battle of Harfleur\n",
      "during the Hundred Years' War between England and France. The speech is meant to\n",
      "inspire and motivate the soldiers to fight bravely and with determination. The\n",
      "phrase \"once more unto the breach\" refers to the soldiers charging towards the\n",
      "breach in the walls of the city of Harfleur. The speech emphasizes the\n",
      "importance of courage and determination in the face of adversity, and the need\n",
      "to put aside peaceful and gentle qualities in order to fight and win in war. It\n",
      "is a powerful and iconic speech that has become a symbol of bravery and\n",
      "determination in the face of adversity.\n"
     ]
    }
   ],
   "source": [
    "response = openai.ChatCompletion.create(\n",
    "  model=\"gpt-3.5-turbo\",\n",
    "  messages=[{\"role\":\"system\", \"content\":\"You are a helpful assistant.\"},\n",
    "            {\"role\":\"user\", \"content\":\"Please recite the first 8 lines from the famous speech from Shakespeare's Henry V, Act 3 scene 1.\"\\\n",
    "                                      \"Then explain the circumstances of the speech and its meaning.\"}],\n",
    "  max_tokens=1000,\n",
    "  temperature=0,\n",
    ")\n",
    "answers=(response.choices[0].message.content).split(\"\\n\")\n",
    "for i in range(len(answers)):\n",
    "    print(textwrap.fill(answers[i], 80))"
   ]
  },
  {
   "attachments": {},
   "cell_type": "markdown",
   "metadata": {},
   "source": [
    "### GPT 4: write a new soliloquy and explain it"
   ]
  },
  {
   "cell_type": "code",
   "execution_count": 27,
   "metadata": {},
   "outputs": [
    {
     "name": "stdout",
     "output_type": "stream",
     "text": [
      "Once more unto the breach, dear friends, once more;\n",
      "to confront the tides of binary, the sinister codes which swarm;\n",
      "in this hour, our unyielding will shall forge united our noble race,\n",
      "whilst technology thunders ahead, we, as one, don masks of daring face.\n",
      "Awake, humanity's heart, and swell the tide of mortal force,\n",
      "drown the clamor of fearsome algorithms, set bravery upon its course.\n",
      "Unleash the unbreakable spirits, let the innards of your souls unfold,\n",
      "for the defense of our human essence, unapologetically fierce and bold.\n",
      "\n",
      "In this soliloquy, similar to the original text in Shakespeare's Henry V, the\n",
      "aim is to motivate and inspire a united resistance against the potential doom\n",
      "brought upon by generative AI. By lifting key phrases such as \"Once more unto\n",
      "the breach, dear friends, once more,\" the speaker evokes the same sense of\n",
      "urgency and togetherness as in King Henry's call to his men. Just as Henry urged\n",
      "his soldiers to push forward and face the obstacles on the battlefield, the\n",
      "speaker implores humanity to put on a \"daring face,\" exhibit \"unyielding will,\"\n",
      "and exude \"unapologetically fierce and bold\" defiance against the risks\n",
      "associated with generative AI.\n",
      "\n",
      "The themes of bravery and unity echo through the use of phrases such as \"Awake,\n",
      "humanity's heart, and swell the tide of mortal force.\" The speaker calls for the\n",
      "unbreakable human spirit to be unfolded and displayed against the potential\n",
      "threat. This mirrors the original's themes of inspiring courage in times of\n",
      "adversity and the power of the collective as King Henry did with rallying cries\n",
      "such as \"stiffen the sinews, summon up the blood.\"\n",
      "\n",
      "Much like the original, the speech emphasizes the importance of humanity's\n",
      "unwavering commitment to preservation and defense, reminiscent of King Henry's\n",
      "summoning of courage and steadfastness against imposing enemies.\n"
     ]
    }
   ],
   "source": [
    "response = openai.ChatCompletion.create(\n",
    "  model=\"gpt-4\",\n",
    "  messages=[{\"role\":\"system\", \"content\":\"You are a playright.\"},\n",
    "            {\"role\":\"user\", \"content\":\"In the style of the first 8 lines from the famous speech from Shakespeare's Henry V, Act 3 scene 1, write a soliloquy \" \\\n",
    "                                      \"to inspire and motivate us, the human race, in confronting the potential doom brought upon us by generative AI; \" \\\n",
    "                                      \"then explain how it reflects the themes and meaning of the original by quoting specific key phrases.\"}],\n",
    "  max_tokens=1000,\n",
    "  temperature=1,\n",
    ")\n",
    "answers=(response.choices[0].message.content).split(\"\\n\")\n",
    "for i in range(len(answers)):\n",
    "    print(textwrap.fill(answers[i], 80))"
   ]
  }
 ],
 "metadata": {
  "kernelspec": {
   "display_name": ".env",
   "language": "python",
   "name": "python3"
  },
  "language_info": {
   "codemirror_mode": {
    "name": "ipython",
    "version": 3
   },
   "file_extension": ".py",
   "mimetype": "text/x-python",
   "name": "python",
   "nbconvert_exporter": "python",
   "pygments_lexer": "ipython3",
   "version": "3.10.6"
  },
  "orig_nbformat": 4
 },
 "nbformat": 4,
 "nbformat_minor": 2
}
